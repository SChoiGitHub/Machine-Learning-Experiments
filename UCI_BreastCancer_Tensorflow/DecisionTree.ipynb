{
 "cells": [
  {
   "cell_type": "code",
   "execution_count": 5,
   "metadata": {},
   "outputs": [],
   "source": [
    "#Imports and data imports\n",
    "import pandas as pd\n",
    "import numpy as np\n",
    "import tensorflow as tf\n",
    "from tensorflow import keras\n",
    "from tensorflow.keras import layers\n",
    "from sklearn import preprocessing\n",
    "\n",
    "#Using UCI Machine Learning Repository's database.\n",
    "#Using data from the \" Breast Cancer Wisconsin (Diagnostic) Data Set\" (https://archive.ics.uci.edu/ml/datasets/Breast+Cancer+Wisconsin+%28Diagnostic%29)\n",
    "#Dua, D. and Graff, C. (2019). UCI Machine Learning Repository [http://archive.ics.uci.edu/ml]. Irvine, CA: University of California, School of Information and Computer Science. \n",
    "\n",
    "#Reading CSV Data into Pandas\n",
    "col_names = [\n",
    "    \"id\",\n",
    "    \"diagnosis\",\n",
    "    \"radius_mean\",\n",
    "    \"texture_mean\",\n",
    "    \"perimeter_mean\",\n",
    "    \"area_mean\",\n",
    "    \"smoothness_mean\",\n",
    "    \"compactness_mean\",\n",
    "    \"concavity_mean\",\n",
    "    \"concave_points_mean\",\n",
    "    \"symmetry_mean\",\n",
    "    \"fractal_dimension_mean\",\n",
    "    \"radius_standard_error\",\n",
    "    \"texture_standard_error\",\n",
    "    \"perimeter_standard_error\",\n",
    "    \"area_standard_error\",\n",
    "    \"smoothness_standard_error\",\n",
    "    \"compactness_standard_error\",\n",
    "    \"concavity_standard_error\",\n",
    "    \"concave_points_standard_error\",\n",
    "    \"symmetry_standard_error\",\n",
    "    \"fractal_dimension_standard_error\",\n",
    "    \"radius_worst\",\n",
    "    \"texture_worst\",\n",
    "    \"perimeter_worst\",\n",
    "    \"area_worst\",\n",
    "    \"smoothness_worst\",\n",
    "    \"compactness_worst\",\n",
    "    \"concavity_worst\",\n",
    "    \"concave_points_worst\",\n",
    "    \"symmetry_worst\",\n",
    "    \"fractal_dimension_worst\"\n",
    "]\n",
    "raw_data = pd.read_csv(\n",
    "    \"./wdbc.data\",\n",
    "    names=col_names,\n",
    "    na_values=\"?\")\n",
    "\n",
    "\n",
    "def massage_data(df):\n",
    "    \n",
    "    #Drop unknown values\n",
    "    df = df.dropna()\n",
    "    \n",
    "    #One-hot encoding for only the feature\n",
    "    col = \"diagnosis\"\n",
    "\n",
    "        \n",
    "    #separating into features and labels\n",
    "    #ID is irrelevant data, so skip the first column\n",
    "    features = df[df.columns[2:]]\n",
    "    labels = df[df.columns[1:2]]\n",
    "    \n",
    "    #Feature normalization\n",
    "    min_max_scaler = preprocessing.MinMaxScaler()\n",
    "    features = min_max_scaler.fit_transform(features)\n",
    "    \n",
    "    return features, labels\n",
    "\n",
    "all_features, all_labels = massage_data(raw_data)\n"
   ]
  },
  {
   "cell_type": "code",
   "execution_count": 22,
   "metadata": {
    "scrolled": true
   },
   "outputs": [
    {
     "data": {
      "text/plain": [
       "'breastCancerTree_All.pdf'"
      ]
     },
     "execution_count": 22,
     "metadata": {},
     "output_type": "execute_result"
    }
   ],
   "source": [
    "from sklearn import tree\n",
    "import graphviz \n",
    "\n",
    "breastCancerTree = tree.DecisionTreeClassifier()\n",
    "breastCancerTree = breastCancerTree.fit(all_features, all_labels)\n",
    "\n",
    "#Generate decision tree and output it into a pdf\n",
    "#notably, this tree has NO testing data, only training data. It may be not be general enough.\n",
    "dot_data = tree.export_graphviz(\n",
    "    breastCancerTree, \n",
    "    out_file=None,\n",
    "    feature_names=col_names[2:],\n",
    "    class_names=[\"B\",\"M\"]) \n",
    "graph = graphviz.Source(dot_data)\n",
    "graph.render(\"breastCancerTree_All\")\n"
   ]
  },
  {
   "cell_type": "code",
   "execution_count": 128,
   "metadata": {},
   "outputs": [
    {
     "name": "stdout",
     "output_type": "stream",
     "text": [
      "{'fit_time': array([0.00308752, 0.00326538, 0.00278783, 0.00339484, 0.00295234]), 'score_time': array([0.00054646, 0.00040746, 0.00044799, 0.0004406 , 0.00039792]), 'test_score': array([1.        , 0.93103448, 0.86206897, 0.82142857, 0.89285714])}\n",
      "Average Score: 0.9014778325123153\n"
     ]
    },
    {
     "data": {
      "text/plain": [
       "'breastCancerTree_Split.pdf'"
      ]
     },
     "execution_count": 128,
     "metadata": {},
     "output_type": "execute_result"
    }
   ],
   "source": [
    "from sklearn import tree\n",
    "from sklearn.model_selection import train_test_split, cross_validate\n",
    "import numpy as np\n",
    "import graphviz \n",
    "\n",
    "train_features, test_features, train_labels, test_labels = train_test_split(all_features, all_labels, test_size=0.25)\n",
    "\n",
    "#This decision tree has a 80-20 training-testing split.\n",
    "breastCancerTree = tree.DecisionTreeClassifier()\n",
    "breastCancerTree = breastCancerTree.fit(train_features, train_labels)\n",
    "scores = cross_validate(breastCancerTree, test_features, test_labels)\n",
    "\n",
    "#Accuracy appears to be around the low 90s.\n",
    "print(scores)\n",
    "print(\"Average Score:\",np.average(scores['test_score']))\n",
    "\n",
    "\n",
    "#Generate decision tree and output it into a pdf\n",
    "dot_data = tree.export_graphviz(\n",
    "    breastCancerTree, \n",
    "    out_file=None,\n",
    "    feature_names=col_names[2:],\n",
    "    class_names=[\"B\",\"M\"]) \n",
    "graph = graphviz.Source(dot_data)\n",
    "graph.render(\"breastCancerTree_Split\")\n"
   ]
  },
  {
   "cell_type": "code",
   "execution_count": 54,
   "metadata": {},
   "outputs": [
    {
     "name": "stdout",
     "output_type": "stream",
     "text": [
      "     radius_mean  texture_mean  perimeter_mean  area_mean  smoothness_mean  \\\n",
      "133     0.413129      0.142712        0.402253   0.262227         0.379074   \n",
      "209     0.392304      0.108218        0.375786   0.246872         0.263519   \n",
      "347     0.368167      0.170105        0.352982   0.222778         0.326081   \n",
      "375     0.434900      0.215083        0.431967   0.273595         0.416810   \n",
      "406     0.433480      0.174163        0.418147   0.278473         0.382053   \n",
      "472     0.375740      0.176530        0.363900   0.230498         0.255936   \n",
      "484     0.414075      0.053094        0.407781   0.256076         0.466462   \n",
      "491     0.514411      0.119040        0.489323   0.359958         0.232464   \n",
      "508     0.441053      0.202570        0.420911   0.286872         0.375914   \n",
      "\n",
      "     compactness_mean  concavity_mean  concave_points_mean  symmetry_mean  \\\n",
      "133          0.230783        0.167174             0.294881       0.381818   \n",
      "209          0.131648        0.138051             0.156909       0.151010   \n",
      "347          0.179191        0.107966             0.175348       0.232828   \n",
      "375          0.381633        0.155834             0.268241       0.469697   \n",
      "406          0.201307        0.128866             0.225050       0.340909   \n",
      "472          0.202779        0.129780             0.160089       0.316667   \n",
      "484          0.338998        0.279053             0.308698       0.365657   \n",
      "491          0.131250        0.104147             0.207654       0.080808   \n",
      "508          0.146433        0.129475             0.226789       0.328788   \n",
      "\n",
      "     fractal_dimension_mean  ...  texture_worst  perimeter_worst  area_worst  \\\n",
      "133                0.153117  ...       0.192697         0.318193    0.181282   \n",
      "209                0.111626  ...       0.103945         0.315205    0.183715   \n",
      "347                0.192923  ...       0.157516         0.317695    0.170959   \n",
      "375                0.331929  ...       0.189765         0.312217    0.166216   \n",
      "406                0.185131  ...       0.201493         0.326162    0.187451   \n",
      "472                0.141744  ...       0.165245         0.306738    0.177300   \n",
      "484                0.266007  ...       0.058102         0.309229    0.164447   \n",
      "491                0.052022  ...       0.170576         0.381941    0.251868   \n",
      "508                0.139217  ...       0.152985         0.295782    0.182609   \n",
      "\n",
      "     smoothness_worst  compactness_worst  concavity_worst  \\\n",
      "133          0.337648           0.162616         0.136502   \n",
      "209          0.336987           0.185610         0.236581   \n",
      "347          0.335667           0.168437         0.171805   \n",
      "375          0.345572           0.220925         0.168850   \n",
      "406          0.326421           0.140592         0.184505   \n",
      "472          0.233309           0.244307         0.251677   \n",
      "484          0.547646           0.262547         0.319808   \n",
      "491          0.181272           0.070311         0.083706   \n",
      "508          0.424156           0.105568         0.155511   \n",
      "\n",
      "     concave_points_worst  symmetry_worst  fractal_dimension_worst  diagnosis  \n",
      "133              0.472165        0.228267                 0.102781          B  \n",
      "209              0.355670        0.148827                 0.129214          B  \n",
      "347              0.429897        0.304356                 0.175981          B  \n",
      "375              0.429897        0.313030                 0.226682          B  \n",
      "406              0.387973        0.239109                 0.098911          B  \n",
      "472              0.394158        0.221368                 0.181621          B  \n",
      "484              0.498969        0.195545                 0.175587          B  \n",
      "491              0.286632        0.042973                 0.024072          B  \n",
      "508              0.466323        0.144885                 0.113210          B  \n",
      "\n",
      "[9 rows x 31 columns]\n"
     ]
    }
   ],
   "source": [
    "features_df = pd.DataFrame(training_features, columns=col_names[2:])\n",
    "labels_df = pd.DataFrame(training_labels, columns=col_names[1:2])\n",
    "total_normalized_df = pd.concat([features_df, labels_df], axis=1)\n",
    "\n",
    "#Based on the decision tree, I expect only Beign diagonsises in this. This is true.\n",
    "onlyB = total_normalized_df[total_normalized_df.radius_worst > 0.315]\n",
    "onlyB = onlyB[onlyB.texture_mean <= 0.216]\n",
    "onlyB = onlyB[onlyB.compactness_standard_error <= 0.139]\n",
    "print(onlyB)"
   ]
  }
 ],
 "metadata": {
  "kernelspec": {
   "display_name": "Python 3",
   "language": "python",
   "name": "python3"
  },
  "language_info": {
   "codemirror_mode": {
    "name": "ipython",
    "version": 3
   },
   "file_extension": ".py",
   "mimetype": "text/x-python",
   "name": "python",
   "nbconvert_exporter": "python",
   "pygments_lexer": "ipython3",
   "version": "3.6.9"
  }
 },
 "nbformat": 4,
 "nbformat_minor": 2
}
